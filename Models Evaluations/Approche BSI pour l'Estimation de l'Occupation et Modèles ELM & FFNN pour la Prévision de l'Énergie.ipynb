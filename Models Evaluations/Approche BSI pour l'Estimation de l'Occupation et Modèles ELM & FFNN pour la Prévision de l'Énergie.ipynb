{
 "cells": [
  {
   "cell_type": "markdown",
   "id": "4a7a0708",
   "metadata": {},
   "source": [
    "# Prediction of occupancy level and energy consumption in office building using blind system identification and neural networks\n",
    "\n",
    "## Référence\n",
    "Wei, Y., Xia, L., Pan, S., Wu, J., Zhang, X., Han, M., Zhang, W., Xie, J., & Li, Q. (2019). Prediction of occupancy level and energy consumption in office building using blind system identification and neural networks. *Applied Energy*, 240, 276-294.\n",
    "\n",
    "## Blind System Identification (BSI)\n",
    "\n",
    "### Définition\n",
    "L'identification de système aveugle (BSI) est une technique pour modéliser un système sans connaissance préalable de sa structure interne. Elle estime les paramètres du système en se basant uniquement sur les données d'entrée et de sortie observées.\n",
    "\n",
    "### Concepts Clés\n",
    "- **Données d'Entrée et de Sortie :** Signaux mesurables entrant et sortant du système. Par exemple, température intérieure, niveaux de CO2, heure de la journée pour les entrées; niveaux d'occupation et consommation énergétique pour les sorties.\n",
    "- **Estimation des Paramètres :** Détermination des valeurs des paramètres du système qui correspondent le mieux aux données observées.\n",
    "- **Approche Basée sur les Données :** Utilisation de méthodes statistiques et mathématiques pour déduire le comportement du système.\n",
    "\n",
    "### Application\n",
    "Dans un bâtiment de bureaux, vous pouvez prédire le niveau d'occupation en fonction des données environnementales (température intérieure, niveaux de CO2, heure de la journée) en utilisant l'identification de système aveugle.\n"
   ]
  },
  {
   "cell_type": "markdown",
   "id": "5d7e79a8",
   "metadata": {},
   "source": [
    "Le document traite de la prédiction du niveau d'occupation et de la consommation énergétique dans les bâtiments de bureaux en utilisant l'identification de système aveugle (Blind System Identification, BSI) et les réseaux de neurones."
   ]
  },
  {
   "cell_type": "markdown",
   "id": "1a0b9b62",
   "metadata": {},
   "source": [
    "### Points Clés\n",
    "\n",
    "- **Objectif de l'étude :** Estimer le nombre d'occupants à partir de la concentration de CO2 et utiliser cette estimation comme entrée pour prédire la consommation électrique d'un système de climatisation à l'aide d'un réseau de neurones artificiel.\n",
    "- **Modèles d'Estimation de l'Occupation :** Utilisation de BSI pour estimer le nombre d'occupants sans connaissance préalable des données de comptage des personnes.\n",
    "- **Prédiction de la Consommation Énergétique :** Utilisation de réseaux de neurones à propagation avant (FFNN) et de machine learning extrême (ELM) pour prédire la consommation électrique basée sur les données d'occupation estimées.\n",
    "\n",
    "### Méthodologies\n",
    "\n",
    "- **Blind system identification :** Méthode utilisant la loi de conservation de la masse pour estimer le nombre d'occupants à partir de la concentration de CO2.\n",
    "- **Réseaux de Neurones :** Modèles FFNN et ELM pour prédire la consommation énergétique basée sur les données estimées d'occupation et autres paramètres environnementaux.\n",
    "- **Critères d'Évaluation :** Utilisation de la racine carrée de l'erreur quadratique moyenne normalisée (NRMSE), l'erreur quadratique moyenne (RMSE) et l'erreur moyenne absolue en pourcentage (MAPE) pour évaluer les performances des modèles.\n",
    "\n",
    "### Résultats et Conclusions\n",
    "\n",
    "- **Estimations de l'Occupation :** Les modèles BSI montrent une précision satisfaisante dans l'estimation du nombre d'occupants.\n",
    "- **Prédiction Énergétique :** Les modèles avec l'entrée des données d'occupation estimées améliorent la précision de la prédiction énergétique.\n",
    "- **Modèle Ensemble :** Les modèles d'ensemble combinant les sorties des FFNN et ELM offrent une meilleure précision de prédiction."
   ]
  },
  {
   "cell_type": "markdown",
   "id": "91c1d42f",
   "metadata": {},
   "source": [
    "## Réseaux de Neurones\n",
    "\n",
    "### Définition\n",
    "Les réseaux de neurones sont des modèles de machine learning inspirés du cerveau humain, composés de couches de neurones interconnectés qui traitent les données d'entrée pour produire une sortie. Ils sont particulièrement puissants pour gérer des relations complexes et non linéaires dans les données.\n",
    "\n",
    "### Concepts Clés\n",
    "- **Architecture :** Inclut généralement une couche d'entrée, une ou plusieurs couches cachées et une couche de sortie.\n",
    "- **Entraînement :** Processus d'ajustement des poids des connexions entre les neurones pour minimiser la différence entre les sorties prédites et réelles.\n",
    "- **Fonctions d'Activation :** Fonctions qui déterminent comment la somme pondérée des entrées est transformée avant d'être transmise à la couche suivante (par exemple, ReLU, sigmoïde).\n",
    "\n",
    "### Application\n",
    "Pour prédire la consommation énergétique d'un bâtiment de bureaux, un réseau de neurones peut être entraîné avec des données sur les niveaux d'occupation, les conditions météorologiques, l'utilisation des équipements, etc., pour apprendre les relations complexes entre ces facteurs et la consommation énergétique.\n"
   ]
  },
  {
   "cell_type": "markdown",
   "id": "61a19dcd",
   "metadata": {},
   "source": [
    "## Application dans les Bâtiments de Bureaux\n",
    "\n",
    "### Prédiction du Niveau d'Occupation\n",
    "- **Données d'Entrée :** Conditions environnementales intérieures (température, humidité, niveaux de CO2), facteurs externes (météo, heure de la journée), et schémas d'utilisation du bâtiment.\n",
    "- **Approche de Modélisation :**\n",
    "  - **Blind system identification :** Identifier les schémas et relations dans les données pour prédire l'occupation sans modéliser explicitement les dynamiques physiques.\n",
    "  - **Réseaux de Neurones :** Entraîner un réseau de neurones pour apprendre les relations complexes et non linéaires entre les facteurs d'entrée et les niveaux d'occupation.\n",
    "\n",
    "### Prédiction de la Consommation Énergétique\n",
    "- **Données d'Entrée :** Niveaux d'occupation, paramètres du système HVAC, données météorologiques et horaires de fonctionnement du bâtiment.\n",
    "- **Approche de Modélisation :**\n",
    "  - **Blind system identification :** Utiliser les données observées pour modéliser les schémas de consommation énergétique et prédire les usages futurs en fonction des conditions d'entrée.\n",
    "  - **Réseaux de Neurones :** Entraîner un réseau de neurones sur des données historiques (auto-regressive) pour prédire la consommation énergétique en fonction de divers facteurs influents.\n"
   ]
  },
  {
   "cell_type": "markdown",
   "id": "0bc95d48",
   "metadata": {},
   "source": [
    "## Applications combinées\n",
    "\n",
    "1. **Blind System Identification pour la Prédiction de l'Occupation :**\n",
    "   - **Collecte de Données :** Rassembler des données historiques sur la température intérieure, l'humidité, les niveaux de CO2 et les comptes d'occupation.\n",
    "   - **Développement du Modèle :** Utiliser des techniques statistiques pour développer un modèle reliant les données environnementales aux niveaux d'occupation.\n",
    "   - **Prédiction :** Utiliser le modèle pour prédire l'occupation en fonction des données environnementales en temps réel.\n",
    "\n",
    "2. **Réseau de Neurones pour la Prédiction de la Consommation Énergétique :**\n",
    "   - **Collecte de Données :** Collecter des données sur l'occupation, les conditions météorologiques, les paramètres de HVAC et la consommation énergétique passée.\n",
    "   - **Entraînement du Modèle :** Entraîner un réseau de neurones utilisant ces données pour apprendre comment ces facteurs influencent la consommation d'énergie.\n",
    "   - **Prédiction :** Utiliser le réseau de neurones entraîné pour prédire la consommation énergétique future en fonction de nouvelles données d'entrée.\n"
   ]
  },
  {
   "cell_type": "markdown",
   "id": "415a0829",
   "metadata": {},
   "source": [
    "## Résumé\n",
    "En utilisant le Blind System Identification (BSI) et les réseaux de neurones (NN), des modèles robustes pour prédire les niveaux d'occupation et la consommation énergétique dans les bâtiments de bureaux sont developpés. Le BSI exploite les données observées pour modéliser les systèmes sans connaissances préalables détaillées, tandis que les réseaux de neurones excellent à apprendre les relations complexes dans les données. Ensemble, ces approches peuvent aider à optimiser les opérations des bâtiments et à améliorer l'efficacité énergétique.\n"
   ]
  },
  {
   "cell_type": "markdown",
   "id": "e94a151e",
   "metadata": {},
   "source": []
  }
 ],
 "metadata": {
  "kernelspec": {
   "display_name": "Python 3 (ipykernel)",
   "language": "python",
   "name": "python3"
  },
  "language_info": {
   "codemirror_mode": {
    "name": "ipython",
    "version": 3
   },
   "file_extension": ".py",
   "mimetype": "text/x-python",
   "name": "python",
   "nbconvert_exporter": "python",
   "pygments_lexer": "ipython3",
   "version": "3.11.6"
  }
 },
 "nbformat": 4,
 "nbformat_minor": 5
}
